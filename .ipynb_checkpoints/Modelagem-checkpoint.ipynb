{
 "cells": [
  {
   "cell_type": "code",
   "execution_count": 102,
   "id": "33642dc4",
   "metadata": {},
   "outputs": [],
   "source": [
    "from src.standartization import Standartization\n",
    "import numpy as np\n",
    "from sklearn.model_selection import train_test_split\n",
    "from tensorflow import keras"
   ]
  },
  {
   "cell_type": "markdown",
   "id": "e74e4ecb",
   "metadata": {},
   "source": [
    "# Fazendo o dataset de treino  e teste"
   ]
  },
  {
   "cell_type": "code",
   "execution_count": 103,
   "id": "9f100578",
   "metadata": {},
   "outputs": [],
   "source": [
    "standart = Standartization('Dataset')"
   ]
  },
  {
   "cell_type": "code",
   "execution_count": 104,
   "id": "97d31dde",
   "metadata": {},
   "outputs": [],
   "source": [
    "dataset = standart.__getAllImages__()\n",
    "#dataset = standart.__getAllImagesRemovedBackground__()\n",
    "#dataset = standart.__getAllImagesCor_gamma__()"
   ]
  },
  {
   "cell_type": "code",
   "execution_count": 105,
   "id": "92e0dc60",
   "metadata": {},
   "outputs": [],
   "source": [
    "imagens = dataset['images']\n",
    "labels = dataset['labels']"
   ]
  },
  {
   "cell_type": "code",
   "execution_count": 106,
   "id": "2bdbbc2b",
   "metadata": {},
   "outputs": [],
   "source": [
    "#labels = keras.utils.to_categorical(labels,num_classes=4)"
   ]
  },
  {
   "cell_type": "code",
   "execution_count": 107,
   "id": "0743cbb2",
   "metadata": {},
   "outputs": [],
   "source": [
    "#labels.shape"
   ]
  },
  {
   "cell_type": "code",
   "execution_count": 108,
   "id": "2855b300",
   "metadata": {},
   "outputs": [],
   "source": [
    "X_train, X_test, y_train, y_test = train_test_split(imagens,labels,test_size=0.2)"
   ]
  },
  {
   "cell_type": "code",
   "execution_count": 109,
   "id": "6ad5c3a2",
   "metadata": {},
   "outputs": [
    {
     "data": {
      "text/plain": [
       "(336, 224, 224, 3)"
      ]
     },
     "execution_count": 109,
     "metadata": {},
     "output_type": "execute_result"
    }
   ],
   "source": [
    "X_train.shape"
   ]
  },
  {
   "cell_type": "code",
   "execution_count": 110,
   "id": "9eaa0442",
   "metadata": {},
   "outputs": [
    {
     "data": {
      "text/plain": [
       "(85, 224, 224, 3)"
      ]
     },
     "execution_count": 110,
     "metadata": {},
     "output_type": "execute_result"
    }
   ],
   "source": [
    "X_test.shape"
   ]
  },
  {
   "cell_type": "code",
   "execution_count": 111,
   "id": "b2d92b94",
   "metadata": {},
   "outputs": [
    {
     "data": {
      "text/plain": [
       "(336,)"
      ]
     },
     "execution_count": 111,
     "metadata": {},
     "output_type": "execute_result"
    }
   ],
   "source": [
    "y_train = np.array(y_train)\n",
    "y_train.shape"
   ]
  },
  {
   "cell_type": "markdown",
   "id": "069b6160",
   "metadata": {},
   "source": [
    "# Construção do modelo"
   ]
  },
  {
   "cell_type": "code",
   "execution_count": 112,
   "id": "8c40e58f",
   "metadata": {},
   "outputs": [],
   "source": [
    "from tensorflow.keras.layers import Conv2D, Dropout, Flatten, MaxPooling2D, Activation,Dense\n",
    "from tensorflow.keras import Sequential\n",
    "import tensorflow as tf"
   ]
  },
  {
   "cell_type": "code",
   "execution_count": 113,
   "id": "70568f9d",
   "metadata": {},
   "outputs": [],
   "source": [
    "epochs = 10\n",
    "batch_size = 32"
   ]
  },
  {
   "cell_type": "code",
   "execution_count": 114,
   "id": "68f8a527",
   "metadata": {},
   "outputs": [
    {
     "data": {
      "text/plain": [
       "\"model = keras.Sequential()\\n\\nmodel.add(keras.layers.Conv2D(32,kernel_size = [8,8],padding='SAME',input_shape=(224,224,3)))\\nmodel.add(keras.layers.MaxPooling2D(pool_size=[2,2]))\\nmodel.add(keras.layers.Conv2D(16,kernel_size = [8,8],padding='SAME'))\\nmodel.add(keras.layers.MaxPooling2D(pool_size=[2,2]))\\nmodel.add(keras.layers.Conv2D(8,kernel_size = [8,8],padding='SAME'))\\nmodel.add(keras.layers.MaxPooling2D(pool_size=[2,2]))\\n\\nmodel.add(keras.layers.Flatten())\\n\\n#model.add(keras.layers.Dense(50,activation='relu'))\\nmodel.add(keras.layers.Dense(25,))\\nmodel.add(Activation('relu'))\\nmodel.add(Dense(3))\\nmodel.add(Activation('softmax'))\\n\\nmodel.summary()\""
      ]
     },
     "execution_count": 114,
     "metadata": {},
     "output_type": "execute_result"
    }
   ],
   "source": [
    "'''model = keras.Sequential()\n",
    "\n",
    "model.add(keras.layers.Conv2D(32,kernel_size = [8,8],padding='SAME',input_shape=(224,224,3)))\n",
    "model.add(keras.layers.MaxPooling2D(pool_size=[2,2]))\n",
    "model.add(keras.layers.Conv2D(16,kernel_size = [8,8],padding='SAME'))\n",
    "model.add(keras.layers.MaxPooling2D(pool_size=[2,2]))\n",
    "model.add(keras.layers.Conv2D(8,kernel_size = [8,8],padding='SAME'))\n",
    "model.add(keras.layers.MaxPooling2D(pool_size=[2,2]))\n",
    "\n",
    "model.add(keras.layers.Flatten())\n",
    "\n",
    "#model.add(keras.layers.Dense(50,activation='relu'))\n",
    "model.add(keras.layers.Dense(25,))\n",
    "model.add(Activation('relu'))\n",
    "model.add(Dense(3))\n",
    "model.add(Activation('softmax'))\n",
    "\n",
    "model.summary()'''\n"
   ]
  },
  {
   "cell_type": "markdown",
   "id": "9bfa2dab",
   "metadata": {},
   "source": [
    "# Modelo Squad"
   ]
  },
  {
   "cell_type": "code",
   "execution_count": 118,
   "id": "871d8df2",
   "metadata": {},
   "outputs": [
    {
     "name": "stdout",
     "output_type": "stream",
     "text": [
      "Model: \"sequential_18\"\n",
      "_________________________________________________________________\n",
      "Layer (type)                 Output Shape              Param #   \n",
      "=================================================================\n",
      "conv2d_52 (Conv2D)           (None, 224, 224, 512)     14336     \n",
      "_________________________________________________________________\n",
      "activation_23 (Activation)   (None, 224, 224, 512)     0         \n",
      "_________________________________________________________________\n",
      "max_pooling2d_51 (MaxPooling (None, 112, 112, 512)     0         \n",
      "_________________________________________________________________\n",
      "dropout_18 (Dropout)         (None, 112, 112, 512)     0         \n",
      "_________________________________________________________________\n",
      "conv2d_53 (Conv2D)           (None, 112, 112, 256)     1179904   \n",
      "_________________________________________________________________\n",
      "activation_24 (Activation)   (None, 112, 112, 256)     0         \n",
      "_________________________________________________________________\n",
      "max_pooling2d_52 (MaxPooling (None, 56, 56, 256)       0         \n",
      "_________________________________________________________________\n",
      "dropout_19 (Dropout)         (None, 56, 56, 256)       0         \n",
      "_________________________________________________________________\n",
      "conv2d_54 (Conv2D)           (None, 56, 56, 128)       295040    \n",
      "_________________________________________________________________\n",
      "activation_25 (Activation)   (None, 56, 56, 128)       0         \n",
      "_________________________________________________________________\n",
      "max_pooling2d_53 (MaxPooling (None, 28, 28, 128)       0         \n",
      "_________________________________________________________________\n",
      "dropout_20 (Dropout)         (None, 28, 28, 128)       0         \n",
      "_________________________________________________________________\n",
      "flatten_17 (Flatten)         (None, 100352)            0         \n",
      "_________________________________________________________________\n",
      "dense_38 (Dense)             (None, 4)                 401412    \n",
      "_________________________________________________________________\n",
      "activation_26 (Activation)   (None, 4)                 0         \n",
      "=================================================================\n",
      "Total params: 1,890,692\n",
      "Trainable params: 1,890,692\n",
      "Non-trainable params: 0\n",
      "_________________________________________________________________\n"
     ]
    }
   ],
   "source": [
    "#model_file = os.path.join(output_path,model_name)\n",
    "model = Sequential()\n",
    "model.add(Conv2D(512, kernel_size=(3, 3), input_shape=X_train.shape[1:],padding='same'))\n",
    "model.add(Activation(\"relu\"))\n",
    "model.add(MaxPooling2D(pool_size=(2,2),padding='same'))\n",
    "model.add(Dropout(0.1))\n",
    "model.add(Conv2D(256, kernel_size=(3,3),padding='same'))\n",
    "model.add(Activation(\"relu\"))\n",
    "model.add(MaxPooling2D(pool_size=(2,2),padding='same'))\n",
    "model.add(Dropout(0.1))\n",
    "model.add(Conv2D(128, kernel_size=(3, 3),padding='same'))\n",
    "model.add(Activation(\"relu\"))\n",
    "model.add(MaxPooling2D(pool_size=(2, 2),padding='same'))\n",
    "model.add(Dropout(0.25))\n",
    "model.add(Flatten())\n",
    "model.add(Dense(4))\n",
    "model.add(Activation('softmax'))\n",
    "\n",
    "model.summary()\n",
    "\n",
    "model.compile(loss='sparse_categorical_crossentropy',\n",
    "              optimizer='adam',\n",
    "              metrics=['sparse_categorical_accuracy'])"
   ]
  },
  {
   "cell_type": "code",
   "execution_count": 116,
   "id": "5537b11b",
   "metadata": {},
   "outputs": [
    {
     "data": {
      "text/plain": [
       "\"model.compile(loss='categorical_crossentropy',\\n              optimizer = 'Adam',\\n              metrics = ['accuracy'])\""
      ]
     },
     "execution_count": 116,
     "metadata": {},
     "output_type": "execute_result"
    }
   ],
   "source": [
    "'''model.compile(loss='categorical_crossentropy',\n",
    "              optimizer = 'Adam',\n",
    "              metrics = ['accuracy'])'''"
   ]
  },
  {
   "cell_type": "code",
   "execution_count": 119,
   "id": "f4312a64",
   "metadata": {},
   "outputs": [
    {
     "name": "stdout",
     "output_type": "stream",
     "text": [
      "Epoch 1/10\n",
      "10/10 [==============================] - 148s 15s/step - loss: 168.5555 - sparse_categorical_accuracy: 0.2715 - val_loss: 1.2521 - val_sparse_categorical_accuracy: 0.3235\n",
      "Epoch 2/10\n",
      "10/10 [==============================] - 148s 15s/step - loss: 1.0964 - sparse_categorical_accuracy: 0.5662 - val_loss: 0.8259 - val_sparse_categorical_accuracy: 0.6471\n",
      "Epoch 3/10\n",
      "10/10 [==============================] - 145s 15s/step - loss: 0.6573 - sparse_categorical_accuracy: 0.7351 - val_loss: 0.3488 - val_sparse_categorical_accuracy: 0.9412\n",
      "Epoch 4/10\n",
      "10/10 [==============================] - 147s 15s/step - loss: 0.2765 - sparse_categorical_accuracy: 0.9305 - val_loss: 0.2701 - val_sparse_categorical_accuracy: 0.9118\n",
      "Epoch 5/10\n",
      "10/10 [==============================] - 154s 15s/step - loss: 0.5016 - sparse_categorical_accuracy: 0.9338 - val_loss: 0.1688 - val_sparse_categorical_accuracy: 0.9706\n",
      "Epoch 6/10\n",
      "10/10 [==============================] - 148s 15s/step - loss: 0.0708 - sparse_categorical_accuracy: 0.9768 - val_loss: 0.0223 - val_sparse_categorical_accuracy: 1.0000\n",
      "Epoch 7/10\n",
      "10/10 [==============================] - 149s 15s/step - loss: 0.0096 - sparse_categorical_accuracy: 0.9934 - val_loss: 0.0109 - val_sparse_categorical_accuracy: 1.0000\n",
      "Epoch 8/10\n",
      "10/10 [==============================] - 149s 15s/step - loss: 0.0032 - sparse_categorical_accuracy: 1.0000 - val_loss: 0.0205 - val_sparse_categorical_accuracy: 1.0000\n",
      "Epoch 9/10\n",
      "10/10 [==============================] - 149s 15s/step - loss: 7.8106e-04 - sparse_categorical_accuracy: 1.0000 - val_loss: 6.4790e-04 - val_sparse_categorical_accuracy: 1.0000\n",
      "Epoch 10/10\n",
      "10/10 [==============================] - 147s 15s/step - loss: 0.0126 - sparse_categorical_accuracy: 0.9967 - val_loss: 0.0300 - val_sparse_categorical_accuracy: 1.0000\n"
     ]
    }
   ],
   "source": [
    "with tf.device('CPU'):\n",
    "    history = model.fit(X_train, y_train,\n",
    "                        epochs=epochs,\n",
    "                        batch_size = batch_size,\n",
    "                        validation_split=0.1)"
   ]
  },
  {
   "cell_type": "code",
   "execution_count": 122,
   "id": "0dfc0ee1",
   "metadata": {},
   "outputs": [],
   "source": [
    "with tf.device('CPU'):\n",
    "    y_pred = model.predict(X_test)"
   ]
  },
  {
   "cell_type": "code",
   "execution_count": 137,
   "id": "156d89bf",
   "metadata": {},
   "outputs": [],
   "source": [
    "y_pred = y_pred.argmax(1)"
   ]
  },
  {
   "cell_type": "code",
   "execution_count": 128,
   "id": "719d62c2",
   "metadata": {},
   "outputs": [],
   "source": [
    "y_test = np.array(y_test)"
   ]
  },
  {
   "cell_type": "code",
   "execution_count": 129,
   "id": "273889e3",
   "metadata": {},
   "outputs": [
    {
     "data": {
      "text/plain": [
       "array([3, 2, 1, 0, 0, 2, 2, 2, 1, 2, 0, 1, 2, 0, 2, 2, 1, 3, 0, 0, 2, 0,\n",
       "       3, 3, 3, 1, 1, 0, 1, 0, 0, 3, 1, 1, 1, 2, 3, 0, 0, 1, 3, 3, 3, 1,\n",
       "       2, 1, 0, 1, 2, 1, 1, 0, 0, 3, 3, 1, 0, 2, 2, 2, 0, 2, 0, 2, 0, 2,\n",
       "       0, 2, 2, 1, 3, 0, 1, 2, 1, 1, 3, 1, 2, 0, 3, 2, 0, 1, 1])"
      ]
     },
     "execution_count": 129,
     "metadata": {},
     "output_type": "execute_result"
    }
   ],
   "source": [
    "y_test"
   ]
  },
  {
   "cell_type": "code",
   "execution_count": 136,
   "id": "b2a810ea",
   "metadata": {},
   "outputs": [],
   "source": [
    "from sklearn.metrics import accuracy_score, recall_score, precision_score,confusion_matrix"
   ]
  },
  {
   "cell_type": "code",
   "execution_count": 132,
   "id": "62747f7b",
   "metadata": {},
   "outputs": [
    {
     "data": {
      "text/plain": [
       "0.9882352941176471"
      ]
     },
     "execution_count": 132,
     "metadata": {},
     "output_type": "execute_result"
    }
   ],
   "source": [
    "accuracy_score(y_test,y_pred)"
   ]
  },
  {
   "cell_type": "code",
   "execution_count": 134,
   "id": "8e5e3e08",
   "metadata": {},
   "outputs": [],
   "source": [
    "model.save('squad_model.h5')"
   ]
  },
  {
   "cell_type": "code",
   "execution_count": 138,
   "id": "4c5b3ad2",
   "metadata": {},
   "outputs": [
    {
     "data": {
      "text/plain": [
       "array([[23,  0,  0,  0],\n",
       "       [ 0, 23,  0,  1],\n",
       "       [ 0,  0, 23,  0],\n",
       "       [ 0,  0,  0, 15]])"
      ]
     },
     "execution_count": 138,
     "metadata": {},
     "output_type": "execute_result"
    }
   ],
   "source": [
    "confusion_matrix(y_test,y_pred)"
   ]
  },
  {
   "cell_type": "code",
   "execution_count": 142,
   "id": "ec791e49",
   "metadata": {},
   "outputs": [
    {
     "data": {
      "text/plain": [
       "0.9895833333333334"
      ]
     },
     "execution_count": 142,
     "metadata": {},
     "output_type": "execute_result"
    }
   ],
   "source": [
    "np.mean(recall_score(y_test,y_pred,average=None))"
   ]
  },
  {
   "cell_type": "code",
   "execution_count": 143,
   "id": "c09b02f5",
   "metadata": {},
   "outputs": [
    {
     "data": {
      "text/plain": [
       "0.984375"
      ]
     },
     "execution_count": 143,
     "metadata": {},
     "output_type": "execute_result"
    }
   ],
   "source": [
    "np.mean(precision_score(y_test,y_pred,average=None))"
   ]
  },
  {
   "cell_type": "code",
   "execution_count": 144,
   "id": "f2b3cab6",
   "metadata": {},
   "outputs": [],
   "source": [
    "import matplotlib.pyplot as plt"
   ]
  },
  {
   "cell_type": "code",
   "execution_count": 146,
   "id": "b86338d6",
   "metadata": {},
   "outputs": [],
   "source": [
    "values_loss_train = history.history['loss']\n",
    "values_loss_validation = history.history['val_loss']\n",
    "values_accuracy_train = history.history['sparse_categorical_accuracy']\n",
    "values_accuracy_validation = history.history['val_sparse_categorical_accuracy']\n",
    "\n",
    "x = range(epochs)"
   ]
  },
  {
   "cell_type": "code",
   "execution_count": 155,
   "id": "8966fd0b",
   "metadata": {},
   "outputs": [
    {
     "data": {
      "text/plain": [
       "<matplotlib.legend.Legend at 0x7f5eaeab7070>"
      ]
     },
     "execution_count": 155,
     "metadata": {},
     "output_type": "execute_result"
    },
    {
     "data": {
      "image/png": "[encoded data removed]",
      "text/plain": [
       "<Figure size 1036.8x518.4 with 2 Axes>"
      ]
     },
     "metadata": {
      "needs_background": "light"
     },
     "output_type": "display_data"
    }
   ],
   "source": [
    "fig = plt.figure(figsize=(14.4,7.2))\n",
    "\n",
    "ax1 = fig.add_subplot(1,2,1)\n",
    "ax1.plot(x,values_loss_train,label='loss_train')\n",
    "ax1.plot(x,values_loss_validation,label = 'loss_val')\n",
    "ax1.set_title('Loss')\n",
    "ax1.set_xlabel('epochs')\n",
    "ax1.legend(loc='best')\n",
    "\n",
    "ax2 = fig.add_subplot(1,2,2)\n",
    "ax2.plot(x,values_accuracy_train,label='acc_train')\n",
    "ax2.plot(x,values_accuracy_validation,label = 'acc_val')\n",
    "ax2.set_title('Acuracy')\n",
    "ax2.set_xlabel('epochs')\n",
    "ax2.legend(loc='best')\n",
    "\n",
    "\n"
   ]
  },
  {
   "cell_type": "markdown",
   "id": "d84136f1",
   "metadata": {},
   "source": [
    "# Modelo Transfer Learning"
   ]
  },
  {
   "cell_type": "code",
   "execution_count": null,
   "id": "69e02da9",
   "metadata": {},
   "outputs": [],
   "source": []
  }
 ],
 "metadata": {
  "kernelspec": {
   "display_name": "Python 3",
   "language": "python",
   "name": "python3"
  },
  "language_info": {
   "codemirror_mode": {
    "name": "ipython",
    "version": 3
   },
   "file_extension": ".py",
   "mimetype": "text/x-python",
   "name": "python",
   "nbconvert_exporter": "python",
   "pygments_lexer": "ipython3",
   "version": "3.8.10"
  }
 },
 "nbformat": 4,
 "nbformat_minor": 5
}
