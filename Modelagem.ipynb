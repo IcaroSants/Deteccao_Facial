{
 "cells": [
  {
   "cell_type": "code",
   "execution_count": 1,
   "id": "33642dc4",
   "metadata": {},
   "outputs": [],
   "source": [
    "from src.standartization import Standartization\n",
    "import numpy as np\n",
    "from sklearn.model_selection import train_test_split\n",
    "from tensorflow import keras\n",
    "from tensorflow.keras.layers import Conv2D, Dropout, Flatten, MaxPooling2D, Activation,Dense\n",
    "from tensorflow.keras import Sequential\n",
    "import tensorflow as tf"
   ]
  },
  {
   "cell_type": "markdown",
   "id": "e74e4ecb",
   "metadata": {},
   "source": [
    "# Fazendo o dataset de treino  e teste"
   ]
  },
  {
   "cell_type": "code",
   "execution_count": 2,
   "id": "9f100578",
   "metadata": {},
   "outputs": [],
   "source": [
    "standart = Standartization('Dataset')"
   ]
  },
  {
   "cell_type": "code",
   "execution_count": 92,
   "id": "97d31dde",
   "metadata": {},
   "outputs": [],
   "source": [
    "#dataset = standart.__getAllImages__()\n",
    "#dataset = standart.__getAllImagesRemovedBackground__()\n",
    "dataset = standart.__getAllImagesCor_gamma__()"
   ]
  },
  {
   "cell_type": "code",
   "execution_count": 93,
   "id": "92e0dc60",
   "metadata": {},
   "outputs": [],
   "source": [
    "imagens = dataset['images']\n",
    "labels = dataset['labels']"
   ]
  },
  {
   "cell_type": "code",
   "execution_count": 94,
   "id": "2bdbbc2b",
   "metadata": {},
   "outputs": [],
   "source": [
    "#labels = keras.utils.to_categorical(labels,num_classes=4)"
   ]
  },
  {
   "cell_type": "code",
   "execution_count": 95,
   "id": "0743cbb2",
   "metadata": {},
   "outputs": [],
   "source": [
    "#labels.shape"
   ]
  },
  {
   "cell_type": "code",
   "execution_count": 96,
   "id": "2855b300",
   "metadata": {},
   "outputs": [],
   "source": [
    "X_train, X_test, y_train, y_test = train_test_split(imagens,labels,test_size=0.2)"
   ]
  },
  {
   "cell_type": "code",
   "execution_count": 97,
   "id": "6ad5c3a2",
   "metadata": {},
   "outputs": [
    {
     "data": {
      "text/plain": [
       "(336, 224, 224, 3)"
      ]
     },
     "execution_count": 97,
     "metadata": {},
     "output_type": "execute_result"
    }
   ],
   "source": [
    "X_train.shape"
   ]
  },
  {
   "cell_type": "code",
   "execution_count": 98,
   "id": "9eaa0442",
   "metadata": {},
   "outputs": [
    {
     "data": {
      "text/plain": [
       "(85, 224, 224, 3)"
      ]
     },
     "execution_count": 98,
     "metadata": {},
     "output_type": "execute_result"
    }
   ],
   "source": [
    "X_test.shape"
   ]
  },
  {
   "cell_type": "code",
   "execution_count": 99,
   "id": "231d3970",
   "metadata": {},
   "outputs": [
    {
     "data": {
      "text/plain": [
       "(336,)"
      ]
     },
     "execution_count": 99,
     "metadata": {},
     "output_type": "execute_result"
    }
   ],
   "source": [
    "y_train.shape"
   ]
  },
  {
   "cell_type": "markdown",
   "id": "069b6160",
   "metadata": {},
   "source": [
    "# Construção do modelo"
   ]
  },
  {
   "cell_type": "code",
   "execution_count": 100,
   "id": "b2a810ea",
   "metadata": {},
   "outputs": [],
   "source": [
    "from sklearn.metrics import accuracy_score, recall_score, precision_score,confusion_matrix"
   ]
  },
  {
   "cell_type": "code",
   "execution_count": 101,
   "id": "f2b3cab6",
   "metadata": {},
   "outputs": [],
   "source": [
    "import matplotlib.pyplot as plt\n",
    "import seaborn as sns\n",
    "import pandas as pd"
   ]
  },
  {
   "cell_type": "code",
   "execution_count": 102,
   "id": "70568f9d",
   "metadata": {},
   "outputs": [],
   "source": [
    "epochs = 10\n",
    "batch_size = 32"
   ]
  },
  {
   "cell_type": "markdown",
   "id": "9bfa2dab",
   "metadata": {},
   "source": [
    "## Modelo Squad"
   ]
  },
  {
   "cell_type": "code",
   "execution_count": 35,
   "id": "871d8df2",
   "metadata": {},
   "outputs": [
    {
     "name": "stdout",
     "output_type": "stream",
     "text": [
      "Model: \"sequential_1\"\n",
      "_________________________________________________________________\n",
      "Layer (type)                 Output Shape              Param #   \n",
      "=================================================================\n",
      "conv2d_3 (Conv2D)            (None, 224, 224, 512)     14336     \n",
      "_________________________________________________________________\n",
      "activation_4 (Activation)    (None, 224, 224, 512)     0         \n",
      "_________________________________________________________________\n",
      "max_pooling2d_3 (MaxPooling2 (None, 112, 112, 512)     0         \n",
      "_________________________________________________________________\n",
      "dropout_3 (Dropout)          (None, 112, 112, 512)     0         \n",
      "_________________________________________________________________\n",
      "conv2d_4 (Conv2D)            (None, 112, 112, 256)     1179904   \n",
      "_________________________________________________________________\n",
      "activation_5 (Activation)    (None, 112, 112, 256)     0         \n",
      "_________________________________________________________________\n",
      "max_pooling2d_4 (MaxPooling2 (None, 56, 56, 256)       0         \n",
      "_________________________________________________________________\n",
      "dropout_4 (Dropout)          (None, 56, 56, 256)       0         \n",
      "_________________________________________________________________\n",
      "conv2d_5 (Conv2D)            (None, 56, 56, 128)       295040    \n",
      "_________________________________________________________________\n",
      "activation_6 (Activation)    (None, 56, 56, 128)       0         \n",
      "_________________________________________________________________\n",
      "max_pooling2d_5 (MaxPooling2 (None, 28, 28, 128)       0         \n",
      "_________________________________________________________________\n",
      "dropout_5 (Dropout)          (None, 28, 28, 128)       0         \n",
      "_________________________________________________________________\n",
      "flatten_1 (Flatten)          (None, 100352)            0         \n",
      "_________________________________________________________________\n",
      "dense_1 (Dense)              (None, 4)                 401412    \n",
      "_________________________________________________________________\n",
      "activation_7 (Activation)    (None, 4)                 0         \n",
      "=================================================================\n",
      "Total params: 1,890,692\n",
      "Trainable params: 1,890,692\n",
      "Non-trainable params: 0\n",
      "_________________________________________________________________\n"
     ]
    }
   ],
   "source": [
    "#model_file = os.path.join(output_path,model_name)\n",
    "model = Sequential()\n",
    "model.add(Conv2D(512, kernel_size=(3, 3), input_shape=X_train.shape[1:],padding='same'))\n",
    "model.add(Activation(\"relu\"))\n",
    "model.add(MaxPooling2D(pool_size=(2,2),padding='same'))\n",
    "model.add(Dropout(0.1))\n",
    "model.add(Conv2D(256, kernel_size=(3,3),padding='same'))\n",
    "model.add(Activation(\"relu\"))\n",
    "model.add(MaxPooling2D(pool_size=(2,2),padding='same'))\n",
    "model.add(Dropout(0.1))\n",
    "model.add(Conv2D(128, kernel_size=(3, 3),padding='same'))\n",
    "model.add(Activation(\"relu\"))\n",
    "model.add(MaxPooling2D(pool_size=(2, 2),padding='same'))\n",
    "model.add(Dropout(0.25))\n",
    "model.add(Flatten())\n",
    "model.add(Dense(4))\n",
    "model.add(Activation('softmax'))\n",
    "\n",
    "model.summary()\n",
    "\n",
    "model.compile(loss='sparse_categorical_crossentropy',\n",
    "              optimizer='adam',\n",
    "              metrics=['sparse_categorical_accuracy'])"
   ]
  },
  {
   "cell_type": "code",
   "execution_count": 36,
   "id": "f4312a64",
   "metadata": {},
   "outputs": [
    {
     "name": "stdout",
     "output_type": "stream",
     "text": [
      "Epoch 1/10\n",
      "10/10 [==============================] - 136s 14s/step - loss: 206.1802 - sparse_categorical_accuracy: 0.3146 - val_loss: 1.0669 - val_sparse_categorical_accuracy: 0.6765\n",
      "Epoch 2/10\n",
      "10/10 [==============================] - 137s 14s/step - loss: 0.4931 - sparse_categorical_accuracy: 0.8079 - val_loss: 0.5353 - val_sparse_categorical_accuracy: 0.8235\n",
      "Epoch 3/10\n",
      "10/10 [==============================] - 138s 14s/step - loss: 0.1051 - sparse_categorical_accuracy: 0.9536 - val_loss: 0.0275 - val_sparse_categorical_accuracy: 1.0000\n",
      "Epoch 4/10\n",
      "10/10 [==============================] - 133s 13s/step - loss: 0.0431 - sparse_categorical_accuracy: 0.9801 - val_loss: 0.0418 - val_sparse_categorical_accuracy: 0.9706\n",
      "Epoch 5/10\n",
      "10/10 [==============================] - 136s 14s/step - loss: 0.0135 - sparse_categorical_accuracy: 0.9934 - val_loss: 0.0021 - val_sparse_categorical_accuracy: 1.0000\n",
      "Epoch 6/10\n",
      "10/10 [==============================] - 132s 13s/step - loss: 0.0015 - sparse_categorical_accuracy: 1.0000 - val_loss: 3.0749e-04 - val_sparse_categorical_accuracy: 1.0000\n",
      "Epoch 7/10\n",
      "10/10 [==============================] - 134s 13s/step - loss: 5.7763e-04 - sparse_categorical_accuracy: 1.0000 - val_loss: 1.7569e-04 - val_sparse_categorical_accuracy: 1.0000\n",
      "Epoch 8/10\n",
      "10/10 [==============================] - 136s 13s/step - loss: 1.7385e-04 - sparse_categorical_accuracy: 1.0000 - val_loss: 1.7780e-04 - val_sparse_categorical_accuracy: 1.0000\n",
      "Epoch 9/10\n",
      "10/10 [==============================] - 133s 13s/step - loss: 1.4700e-04 - sparse_categorical_accuracy: 1.0000 - val_loss: 1.9130e-04 - val_sparse_categorical_accuracy: 1.0000\n",
      "Epoch 10/10\n",
      "10/10 [==============================] - 137s 14s/step - loss: 4.7819e-04 - sparse_categorical_accuracy: 1.0000 - val_loss: 9.3255e-04 - val_sparse_categorical_accuracy: 1.0000\n"
     ]
    }
   ],
   "source": [
    "with tf.device('CPU'):\n",
    "    history = model.fit(X_train, y_train,\n",
    "                        epochs=epochs,\n",
    "                        batch_size = batch_size,\n",
    "                        validation_split=0.1)"
   ]
  },
  {
   "cell_type": "code",
   "execution_count": 37,
   "id": "0dfc0ee1",
   "metadata": {},
   "outputs": [],
   "source": [
    "with tf.device('CPU'):\n",
    "    y_pred = model.predict(X_test)"
   ]
  },
  {
   "cell_type": "code",
   "execution_count": 39,
   "id": "156d89bf",
   "metadata": {},
   "outputs": [],
   "source": [
    "y_pred = y_pred.argmax(1)"
   ]
  },
  {
   "cell_type": "code",
   "execution_count": 40,
   "id": "273889e3",
   "metadata": {},
   "outputs": [
    {
     "data": {
      "text/plain": [
       "array([3, 1, 1, 1, 2, 3, 2, 1, 2, 1, 1, 3, 1, 3, 2, 3, 1, 3, 3, 2, 0, 2,\n",
       "       3, 0, 0, 0, 2, 2, 1, 1, 2, 1, 1, 1, 0, 0, 1, 3, 1, 2, 0, 1, 0, 0,\n",
       "       2, 3, 3, 2, 1, 0, 0, 2, 0, 3, 0, 2, 1, 1, 1, 0, 3, 0, 2, 2, 2, 3,\n",
       "       2, 1, 2, 2, 3, 1, 3, 3, 2, 3, 2, 3, 2, 2, 2, 2, 3, 3, 3])"
      ]
     },
     "execution_count": 40,
     "metadata": {},
     "output_type": "execute_result"
    }
   ],
   "source": [
    "y_test"
   ]
  },
  {
   "cell_type": "code",
   "execution_count": 42,
   "id": "62747f7b",
   "metadata": {},
   "outputs": [
    {
     "data": {
      "text/plain": [
       "1.0"
      ]
     },
     "execution_count": 42,
     "metadata": {},
     "output_type": "execute_result"
    }
   ],
   "source": [
    "accuracy_score(y_test,y_pred)"
   ]
  },
  {
   "cell_type": "code",
   "execution_count": 18,
   "id": "8e5e3e08",
   "metadata": {},
   "outputs": [],
   "source": [
    "#model.save('squad_model.h5')"
   ]
  },
  {
   "cell_type": "code",
   "execution_count": 43,
   "id": "4c5b3ad2",
   "metadata": {},
   "outputs": [
    {
     "data": {
      "text/plain": [
       "array([[15,  0,  0,  0],\n",
       "       [ 0, 22,  0,  0],\n",
       "       [ 0,  0, 26,  0],\n",
       "       [ 0,  0,  0, 22]])"
      ]
     },
     "execution_count": 43,
     "metadata": {},
     "output_type": "execute_result"
    }
   ],
   "source": [
    "confusion_matrix(y_test,y_pred)"
   ]
  },
  {
   "cell_type": "code",
   "execution_count": 44,
   "id": "ec791e49",
   "metadata": {},
   "outputs": [
    {
     "data": {
      "text/plain": [
       "1.0"
      ]
     },
     "execution_count": 44,
     "metadata": {},
     "output_type": "execute_result"
    }
   ],
   "source": [
    "np.mean(recall_score(y_test,y_pred,average=None))"
   ]
  },
  {
   "cell_type": "code",
   "execution_count": 45,
   "id": "c09b02f5",
   "metadata": {},
   "outputs": [
    {
     "data": {
      "text/plain": [
       "1.0"
      ]
     },
     "execution_count": 45,
     "metadata": {},
     "output_type": "execute_result"
    }
   ],
   "source": [
    "np.mean(precision_score(y_test,y_pred,average=None))"
   ]
  },
  {
   "cell_type": "code",
   "execution_count": 47,
   "id": "b86338d6",
   "metadata": {},
   "outputs": [],
   "source": [
    "values_loss_train = history.history['loss']\n",
    "values_loss_validation = history.history['val_loss']\n",
    "values_accuracy_train = history.history['sparse_categorical_accuracy']\n",
    "values_accuracy_validation = history.history['val_sparse_categorical_accuracy']\n",
    "\n",
    "x = range(epochs)"
   ]
  },
  {
   "cell_type": "code",
   "execution_count": 48,
   "id": "8966fd0b",
   "metadata": {},
   "outputs": [
    {
     "data": {
      "text/plain": [
       "<matplotlib.legend.Legend at 0x7ff4f16d8610>"
      ]
     },
     "execution_count": 48,
     "metadata": {},
     "output_type": "execute_result"
    },
    {
     "data": {
      "image/png": "[encoded data removed]",
      "text/plain": [
       "<Figure size 1036.8x518.4 with 2 Axes>"
      ]
     },
     "metadata": {
      "needs_background": "light"
     },
     "output_type": "display_data"
    }
   ],
   "source": [
    "fig = plt.figure(figsize=(14.4,7.2))\n",
    "\n",
    "ax1 = fig.add_subplot(1,2,1)\n",
    "ax1.plot(x,values_loss_train,label='loss_train')\n",
    "ax1.plot(x,values_loss_validation,label = 'loss_val')\n",
    "ax1.set_title('Loss')\n",
    "ax1.set_xlabel('epochs')\n",
    "ax1.legend(loc='best')\n",
    "\n",
    "ax2 = fig.add_subplot(1,2,2)\n",
    "ax2.plot(x,values_accuracy_train,label='acc_train')\n",
    "ax2.plot(x,values_accuracy_validation,label = 'acc_val')\n",
    "ax2.set_title('Acuracy')\n",
    "ax2.set_xlabel('epochs')\n",
    "ax2.legend(loc='best')\n",
    "\n",
    "\n"
   ]
  },
  {
   "cell_type": "markdown",
   "id": "d84136f1",
   "metadata": {},
   "source": [
    "# Modelo Transfer Learning"
   ]
  },
  {
   "cell_type": "code",
   "execution_count": 103,
   "id": "69e02da9",
   "metadata": {},
   "outputs": [],
   "source": [
    "vgg = keras.applications.vgg16.VGG16(include_top=False, input_shape=(224,224,3), weights = 'imagenet' )\n",
    "\n",
    "x = vgg.output\n",
    "x = Flatten()(x)\n",
    "x = Dense(4)(x)\n",
    "out = Activation('softmax')(x)\n",
    "\n",
    "model_tl = keras.Model(inputs=vgg.input,outputs=out)"
   ]
  },
  {
   "cell_type": "code",
   "execution_count": 104,
   "id": "b7f71b04",
   "metadata": {},
   "outputs": [
    {
     "name": "stdout",
     "output_type": "stream",
     "text": [
      "Model: \"model_8\"\n",
      "_________________________________________________________________\n",
      "Layer (type)                 Output Shape              Param #   \n",
      "=================================================================\n",
      "input_12 (InputLayer)        [(None, 224, 224, 3)]     0         \n",
      "_________________________________________________________________\n",
      "block1_conv1 (Conv2D)        (None, 224, 224, 64)      1792      \n",
      "_________________________________________________________________\n",
      "block1_conv2 (Conv2D)        (None, 224, 224, 64)      36928     \n",
      "_________________________________________________________________\n",
      "block1_pool (MaxPooling2D)   (None, 112, 112, 64)      0         \n",
      "_________________________________________________________________\n",
      "block2_conv1 (Conv2D)        (None, 112, 112, 128)     73856     \n",
      "_________________________________________________________________\n",
      "block2_conv2 (Conv2D)        (None, 112, 112, 128)     147584    \n",
      "_________________________________________________________________\n",
      "block2_pool (MaxPooling2D)   (None, 56, 56, 128)       0         \n",
      "_________________________________________________________________\n",
      "block3_conv1 (Conv2D)        (None, 56, 56, 256)       295168    \n",
      "_________________________________________________________________\n",
      "block3_conv2 (Conv2D)        (None, 56, 56, 256)       590080    \n",
      "_________________________________________________________________\n",
      "block3_conv3 (Conv2D)        (None, 56, 56, 256)       590080    \n",
      "_________________________________________________________________\n",
      "block3_pool (MaxPooling2D)   (None, 28, 28, 256)       0         \n",
      "_________________________________________________________________\n",
      "block4_conv1 (Conv2D)        (None, 28, 28, 512)       1180160   \n",
      "_________________________________________________________________\n",
      "block4_conv2 (Conv2D)        (None, 28, 28, 512)       2359808   \n",
      "_________________________________________________________________\n",
      "block4_conv3 (Conv2D)        (None, 28, 28, 512)       2359808   \n",
      "_________________________________________________________________\n",
      "block4_pool (MaxPooling2D)   (None, 14, 14, 512)       0         \n",
      "_________________________________________________________________\n",
      "block5_conv1 (Conv2D)        (None, 14, 14, 512)       2359808   \n",
      "_________________________________________________________________\n",
      "block5_conv2 (Conv2D)        (None, 14, 14, 512)       2359808   \n",
      "_________________________________________________________________\n",
      "block5_conv3 (Conv2D)        (None, 14, 14, 512)       2359808   \n",
      "_________________________________________________________________\n",
      "block5_pool (MaxPooling2D)   (None, 7, 7, 512)         0         \n",
      "_________________________________________________________________\n",
      "flatten_2 (Flatten)          (None, 25088)             0         \n",
      "_________________________________________________________________\n",
      "dense_8 (Dense)              (None, 4)                 100356    \n",
      "_________________________________________________________________\n",
      "activation_8 (Activation)    (None, 4)                 0         \n",
      "=================================================================\n",
      "Total params: 14,815,044\n",
      "Trainable params: 14,815,044\n",
      "Non-trainable params: 0\n",
      "_________________________________________________________________\n"
     ]
    }
   ],
   "source": [
    "model_tl.summary()"
   ]
  },
  {
   "cell_type": "code",
   "execution_count": 105,
   "id": "ea20710b",
   "metadata": {},
   "outputs": [],
   "source": [
    "model_tl.compile(loss='sparse_categorical_crossentropy',\n",
    "              optimizer='adam',\n",
    "              metrics=['sparse_categorical_accuracy'])"
   ]
  },
  {
   "cell_type": "code",
   "execution_count": 106,
   "id": "4a917394",
   "metadata": {},
   "outputs": [
    {
     "name": "stdout",
     "output_type": "stream",
     "text": [
      "Epoch 1/10\n",
      "10/10 [==============================] - 110s 11s/step - loss: 58.2656 - sparse_categorical_accuracy: 0.2351 - val_loss: 2.0282 - val_sparse_categorical_accuracy: 0.2059\n",
      "Epoch 2/10\n",
      "10/10 [==============================] - 109s 11s/step - loss: 1.3302 - sparse_categorical_accuracy: 0.3576 - val_loss: 2.6758 - val_sparse_categorical_accuracy: 0.1765\n",
      "Epoch 3/10\n",
      "10/10 [==============================] - 109s 11s/step - loss: 1.0130 - sparse_categorical_accuracy: 0.6093 - val_loss: 0.4598 - val_sparse_categorical_accuracy: 0.8529\n",
      "Epoch 4/10\n",
      "10/10 [==============================] - 109s 11s/step - loss: 0.5332 - sparse_categorical_accuracy: 0.8212 - val_loss: 0.3536 - val_sparse_categorical_accuracy: 0.7647\n",
      "Epoch 5/10\n",
      "10/10 [==============================] - 109s 11s/step - loss: 0.2197 - sparse_categorical_accuracy: 0.9205 - val_loss: 0.2049 - val_sparse_categorical_accuracy: 0.9412\n",
      "Epoch 6/10\n",
      "10/10 [==============================] - 109s 11s/step - loss: 0.1096 - sparse_categorical_accuracy: 0.9470 - val_loss: 0.1422 - val_sparse_categorical_accuracy: 0.9706\n",
      "Epoch 7/10\n",
      "10/10 [==============================] - 115s 12s/step - loss: 0.0412 - sparse_categorical_accuracy: 0.9901 - val_loss: 0.0021 - val_sparse_categorical_accuracy: 1.0000\n",
      "Epoch 8/10\n",
      "10/10 [==============================] - 116s 12s/step - loss: 0.0192 - sparse_categorical_accuracy: 0.9934 - val_loss: 0.2655 - val_sparse_categorical_accuracy: 0.9706\n",
      "Epoch 9/10\n",
      "10/10 [==============================] - 110s 11s/step - loss: 0.0520 - sparse_categorical_accuracy: 0.9934 - val_loss: 0.9742 - val_sparse_categorical_accuracy: 0.9412\n",
      "Epoch 10/10\n",
      "10/10 [==============================] - 110s 11s/step - loss: 0.8165 - sparse_categorical_accuracy: 0.8808 - val_loss: 0.2292 - val_sparse_categorical_accuracy: 0.9706\n"
     ]
    }
   ],
   "source": [
    "with tf.device('CPU'):\n",
    "    history_tl = model_tl.fit(X_train, y_train,\n",
    "                        epochs=epochs,\n",
    "                        batch_size = batch_size,\n",
    "                        validation_split=0.1)\n",
    "    "
   ]
  },
  {
   "cell_type": "code",
   "execution_count": 107,
   "id": "c9b713dd",
   "metadata": {},
   "outputs": [],
   "source": [
    "with tf.device('CPU'):\n",
    "    y_pred = model_tl.predict(X_test)"
   ]
  },
  {
   "cell_type": "code",
   "execution_count": 108,
   "id": "7e2c3bae",
   "metadata": {},
   "outputs": [],
   "source": [
    "y_pred = y_pred.argmax(1)"
   ]
  },
  {
   "cell_type": "code",
   "execution_count": 109,
   "id": "e7c09b1f",
   "metadata": {},
   "outputs": [
    {
     "data": {
      "text/plain": [
       "array([1, 2, 2, 3, 2, 1, 0, 1, 1, 1, 3, 2, 1, 2, 1, 3, 0, 0, 1, 2, 2, 2,\n",
       "       3, 0, 1, 0, 0, 3, 2, 2, 1, 0, 2, 1, 1, 2, 1, 0, 0, 1, 0, 3, 3, 1,\n",
       "       1, 1, 1, 2, 2, 3, 3, 1, 0, 2, 0, 2, 3, 1, 1, 2, 1, 2, 0, 2, 3, 0,\n",
       "       0, 0, 0, 0, 1, 3, 0, 1, 3, 3, 1, 1, 2, 0, 0, 1, 3, 2, 1])"
      ]
     },
     "execution_count": 109,
     "metadata": {},
     "output_type": "execute_result"
    }
   ],
   "source": [
    "y_pred"
   ]
  },
  {
   "cell_type": "code",
   "execution_count": 110,
   "id": "56d2d224",
   "metadata": {},
   "outputs": [
    {
     "data": {
      "text/plain": [
       "array([1, 2, 2, 3, 2, 1, 0, 1, 1, 1, 3, 2, 1, 2, 1, 3, 0, 0, 1, 2, 2, 2,\n",
       "       3, 0, 1, 0, 0, 3, 2, 2, 1, 0, 2, 1, 1, 2, 1, 0, 0, 1, 0, 0, 3, 1,\n",
       "       1, 0, 1, 2, 2, 3, 3, 1, 0, 2, 0, 2, 3, 1, 1, 2, 1, 2, 0, 2, 3, 0,\n",
       "       0, 0, 0, 0, 1, 3, 0, 1, 3, 3, 1, 1, 2, 0, 0, 1, 3, 2, 1])"
      ]
     },
     "execution_count": 110,
     "metadata": {},
     "output_type": "execute_result"
    }
   ],
   "source": [
    "y_test"
   ]
  },
  {
   "cell_type": "code",
   "execution_count": 111,
   "id": "981486c8",
   "metadata": {},
   "outputs": [
    {
     "data": {
      "text/plain": [
       "0.9764705882352941"
      ]
     },
     "execution_count": 111,
     "metadata": {},
     "output_type": "execute_result"
    }
   ],
   "source": [
    "accuracy_score(y_test,y_pred)"
   ]
  },
  {
   "cell_type": "code",
   "execution_count": 112,
   "id": "126f36ec",
   "metadata": {},
   "outputs": [
    {
     "data": {
      "text/plain": [
       "0.974404761904762"
      ]
     },
     "execution_count": 112,
     "metadata": {},
     "output_type": "execute_result"
    }
   ],
   "source": [
    "np.mean(precision_score(y_test,y_pred,average=None))"
   ]
  },
  {
   "cell_type": "code",
   "execution_count": 113,
   "id": "70adb0d1",
   "metadata": {},
   "outputs": [
    {
     "data": {
      "text/plain": [
       "0.9782608695652174"
      ]
     },
     "execution_count": 113,
     "metadata": {},
     "output_type": "execute_result"
    }
   ],
   "source": [
    "np.mean(recall_score(y_test,y_pred,average=None))"
   ]
  },
  {
   "cell_type": "code",
   "execution_count": 114,
   "id": "c361ffd1",
   "metadata": {},
   "outputs": [
    {
     "data": {
      "text/plain": [
       "array([[21,  1,  0,  1],\n",
       "       [ 0, 27,  0,  0],\n",
       "       [ 0,  0, 21,  0],\n",
       "       [ 0,  0,  0, 14]])"
      ]
     },
     "execution_count": 114,
     "metadata": {},
     "output_type": "execute_result"
    }
   ],
   "source": [
    "confusion_matrix(y_test,y_pred)"
   ]
  },
  {
   "cell_type": "code",
   "execution_count": 115,
   "id": "48b6a528",
   "metadata": {},
   "outputs": [],
   "source": [
    "values_loss_train = history_tl.history['loss']\n",
    "values_loss_validation = history_tl.history['val_loss']\n",
    "values_accuracy_train = history_tl.history['sparse_categorical_accuracy']\n",
    "values_accuracy_validation = history_tl.history['val_sparse_categorical_accuracy']\n",
    "\n",
    "x = range(epochs)"
   ]
  },
  {
   "cell_type": "code",
   "execution_count": 117,
   "id": "41c313ad",
   "metadata": {},
   "outputs": [
    {
     "data": {
      "text/plain": [
       "<matplotlib.legend.Legend at 0x7f381c6a0d30>"
      ]
     },
     "execution_count": 117,
     "metadata": {},
     "output_type": "execute_result"
    },
    {
     "data": {
      "image/png": "[encoded data removed]",
      "text/plain": [
       "<Figure size 1036.8x518.4 with 2 Axes>"
      ]
     },
     "metadata": {
      "needs_background": "light"
     },
     "output_type": "display_data"
    }
   ],
   "source": [
    "fig = plt.figure(figsize=(14.4,7.2))\n",
    "\n",
    "ax1 = fig.add_subplot(1,2,1)\n",
    "ax1.plot(x,values_loss_train,label='loss_train')\n",
    "ax1.plot(x,values_loss_validation,label = 'loss_val')\n",
    "ax1.set_title('Loss')\n",
    "ax1.set_xlabel('epochs')\n",
    "ax1.legend(loc='best')\n",
    "\n",
    "ax2 = fig.add_subplot(1,2,2)\n",
    "ax2.plot(x,values_accuracy_train,label='acc_train')\n",
    "ax2.plot(x,values_accuracy_validation,label = 'acc_val')\n",
    "ax2.set_title('Accuracy')\n",
    "ax2.set_xlabel('epochs')\n",
    "ax2.legend(loc='best')\n",
    "\n"
   ]
  },
  {
   "cell_type": "code",
   "execution_count": 118,
   "id": "c49b39aa",
   "metadata": {},
   "outputs": [],
   "source": [
    "fig.savefig('VGG16 imagens gamma.png')"
   ]
  },
  {
   "cell_type": "code",
   "execution_count": 119,
   "id": "03c53872",
   "metadata": {},
   "outputs": [
    {
     "data": {
      "text/plain": [
       "<AxesSubplot:>"
      ]
     },
     "execution_count": 119,
     "metadata": {},
     "output_type": "execute_result"
    },
    {
     "data": {
      "image/png": "[encoded data removed]",
      "text/plain": [
       "<Figure size 432x288 with 2 Axes>"
      ]
     },
     "metadata": {
      "needs_background": "light"
     },
     "output_type": "display_data"
    }
   ],
   "source": [
    "df = pd.DataFrame(confusion_matrix(y_test,y_pred),index=['Carlos','Leandro','Icaro','Josue'],\n",
    "                  columns=['Carlos','Leandro','Icaro','Josue'])\n",
    "sns.heatmap(df,annot=True)"
   ]
  },
  {
   "cell_type": "code",
   "execution_count": null,
   "id": "60b93875",
   "metadata": {},
   "outputs": [],
   "source": []
  }
 ],
 "metadata": {
  "kernelspec": {
   "display_name": "Python 3",
   "language": "python",
   "name": "python3"
  },
  "language_info": {
   "codemirror_mode": {
    "name": "ipython",
    "version": 3
   },
   "file_extension": ".py",
   "mimetype": "text/x-python",
   "name": "python",
   "nbconvert_exporter": "python",
   "pygments_lexer": "ipython3",
   "version": "3.8.10"
  }
 },
 "nbformat": 4,
 "nbformat_minor": 5
}
