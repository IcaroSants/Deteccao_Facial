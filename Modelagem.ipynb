{
 "cells": [
  {
   "cell_type": "code",
   "execution_count": 1,
   "id": "33642dc4",
   "metadata": {},
   "outputs": [],
   "source": [
    "from src.standartization import Standartization\n",
    "import numpy as np\n",
    "from sklearn.model_selection import train_test_split\n",
    "from tensorflow import keras\n",
    "from tensorflow.keras.layers import Conv2D, Dropout, Flatten, MaxPooling2D, Activation,Dense\n",
    "from tensorflow.keras import Sequential\n",
    "import tensorflow as tf"
   ]
  },
  {
   "cell_type": "markdown",
   "id": "e74e4ecb",
   "metadata": {},
   "source": [
    "# Fazendo o dataset de treino  e teste"
   ]
  },
  {
   "cell_type": "code",
   "execution_count": 2,
   "id": "9f100578",
   "metadata": {},
   "outputs": [],
   "source": [
    "standart = Standartization('Dataset')"
   ]
  },
  {
   "cell_type": "code",
   "execution_count": 51,
   "id": "97d31dde",
   "metadata": {},
   "outputs": [],
   "source": [
    "dataset = standart.__getAllImages__()\n",
    "#dataset = standart.__getAllImagesRemovedBackground__()\n",
    "#dataset = standart.__getAllImagesCor_gamma__()\n",
    "#dataset = standart.__getAllImagesDetecBorda__()"
   ]
  },
  {
   "cell_type": "code",
   "execution_count": 52,
   "id": "92e0dc60",
   "metadata": {},
   "outputs": [],
   "source": [
    "imagens = dataset['images']\n",
    "labels = dataset['labels']"
   ]
  },
  {
   "cell_type": "code",
   "execution_count": 53,
   "id": "2bdbbc2b",
   "metadata": {},
   "outputs": [],
   "source": [
    "#labels = keras.utils.to_categorical(labels,num_classes=4)"
   ]
  },
  {
   "cell_type": "code",
   "execution_count": 54,
   "id": "0743cbb2",
   "metadata": {},
   "outputs": [],
   "source": [
    "#labels.shape"
   ]
  },
  {
   "cell_type": "code",
   "execution_count": 55,
   "id": "2855b300",
   "metadata": {},
   "outputs": [],
   "source": [
    "X_train, X_test, y_train, y_test = train_test_split(imagens,labels,test_size=0.2)"
   ]
  },
  {
   "cell_type": "code",
   "execution_count": 56,
   "id": "6ad5c3a2",
   "metadata": {},
   "outputs": [
    {
     "data": {
      "text/plain": [
       "(336, 224, 224, 3)"
      ]
     },
     "execution_count": 56,
     "metadata": {},
     "output_type": "execute_result"
    }
   ],
   "source": [
    "X_train.shape"
   ]
  },
  {
   "cell_type": "code",
   "execution_count": 57,
   "id": "9eaa0442",
   "metadata": {},
   "outputs": [
    {
     "data": {
      "text/plain": [
       "(85, 224, 224, 3)"
      ]
     },
     "execution_count": 57,
     "metadata": {},
     "output_type": "execute_result"
    }
   ],
   "source": [
    "X_test.shape"
   ]
  },
  {
   "cell_type": "code",
   "execution_count": 58,
   "id": "231d3970",
   "metadata": {},
   "outputs": [
    {
     "data": {
      "text/plain": [
       "(336,)"
      ]
     },
     "execution_count": 58,
     "metadata": {},
     "output_type": "execute_result"
    }
   ],
   "source": [
    "y_train.shape"
   ]
  },
  {
   "cell_type": "markdown",
   "id": "069b6160",
   "metadata": {},
   "source": [
    "# Construção do modelo"
   ]
  },
  {
   "cell_type": "code",
   "execution_count": 59,
   "id": "b2a810ea",
   "metadata": {},
   "outputs": [],
   "source": [
    "from sklearn.metrics import accuracy_score, recall_score, precision_score,confusion_matrix"
   ]
  },
  {
   "cell_type": "code",
   "execution_count": 60,
   "id": "f2b3cab6",
   "metadata": {},
   "outputs": [],
   "source": [
    "import matplotlib.pyplot as plt\n",
    "import seaborn as sns\n",
    "import pandas as pd"
   ]
  },
  {
   "cell_type": "code",
   "execution_count": 61,
   "id": "70568f9d",
   "metadata": {},
   "outputs": [],
   "source": [
    "epochs = 10\n",
    "batch_size = 32"
   ]
  },
  {
   "cell_type": "markdown",
   "id": "9bfa2dab",
   "metadata": {},
   "source": [
    "## Modelo Squad"
   ]
  },
  {
   "cell_type": "code",
   "execution_count": 62,
   "id": "871d8df2",
   "metadata": {},
   "outputs": [
    {
     "name": "stdout",
     "output_type": "stream",
     "text": [
      "Model: \"sequential_1\"\n",
      "_________________________________________________________________\n",
      "Layer (type)                 Output Shape              Param #   \n",
      "=================================================================\n",
      "conv2d_3 (Conv2D)            (None, 224, 224, 512)     14336     \n",
      "_________________________________________________________________\n",
      "activation_5 (Activation)    (None, 224, 224, 512)     0         \n",
      "_________________________________________________________________\n",
      "max_pooling2d_3 (MaxPooling2 (None, 112, 112, 512)     0         \n",
      "_________________________________________________________________\n",
      "dropout_3 (Dropout)          (None, 112, 112, 512)     0         \n",
      "_________________________________________________________________\n",
      "conv2d_4 (Conv2D)            (None, 112, 112, 256)     1179904   \n",
      "_________________________________________________________________\n",
      "activation_6 (Activation)    (None, 112, 112, 256)     0         \n",
      "_________________________________________________________________\n",
      "max_pooling2d_4 (MaxPooling2 (None, 56, 56, 256)       0         \n",
      "_________________________________________________________________\n",
      "dropout_4 (Dropout)          (None, 56, 56, 256)       0         \n",
      "_________________________________________________________________\n",
      "conv2d_5 (Conv2D)            (None, 56, 56, 128)       295040    \n",
      "_________________________________________________________________\n",
      "activation_7 (Activation)    (None, 56, 56, 128)       0         \n",
      "_________________________________________________________________\n",
      "max_pooling2d_5 (MaxPooling2 (None, 28, 28, 128)       0         \n",
      "_________________________________________________________________\n",
      "dropout_5 (Dropout)          (None, 28, 28, 128)       0         \n",
      "_________________________________________________________________\n",
      "flatten_2 (Flatten)          (None, 100352)            0         \n",
      "_________________________________________________________________\n",
      "dense_2 (Dense)              (None, 4)                 401412    \n",
      "_________________________________________________________________\n",
      "activation_8 (Activation)    (None, 4)                 0         \n",
      "=================================================================\n",
      "Total params: 1,890,692\n",
      "Trainable params: 1,890,692\n",
      "Non-trainable params: 0\n",
      "_________________________________________________________________\n"
     ]
    }
   ],
   "source": [
    "#model_file = os.path.join(output_path,model_name)\n",
    "model = Sequential()\n",
    "model.add(Conv2D(512, kernel_size=(3, 3), input_shape=X_train.shape[1:],padding='same'))\n",
    "model.add(Activation(\"relu\"))\n",
    "model.add(MaxPooling2D(pool_size=(2,2),padding='same'))\n",
    "model.add(Dropout(0.1))\n",
    "model.add(Conv2D(256, kernel_size=(3,3),padding='same'))\n",
    "model.add(Activation(\"relu\"))\n",
    "model.add(MaxPooling2D(pool_size=(2,2),padding='same'))\n",
    "model.add(Dropout(0.1))\n",
    "model.add(Conv2D(128, kernel_size=(3, 3),padding='same'))\n",
    "model.add(Activation(\"relu\"))\n",
    "model.add(MaxPooling2D(pool_size=(2, 2),padding='same'))\n",
    "model.add(Dropout(0.25))\n",
    "model.add(Flatten())\n",
    "model.add(Dense(4))\n",
    "model.add(Activation('softmax'))\n",
    "\n",
    "model.summary()\n",
    "\n",
    "model.compile(loss='sparse_categorical_crossentropy',\n",
    "              optimizer='adam',\n",
    "              metrics=['sparse_categorical_accuracy'])"
   ]
  },
  {
   "cell_type": "code",
   "execution_count": 63,
   "id": "f4312a64",
   "metadata": {
    "scrolled": false
   },
   "outputs": [
    {
     "name": "stdout",
     "output_type": "stream",
     "text": [
      "Epoch 1/10\n",
      "10/10 [==============================] - 133s 13s/step - loss: 362.1931 - sparse_categorical_accuracy: 0.2914 - val_loss: 1.3055 - val_sparse_categorical_accuracy: 0.2941\n",
      "Epoch 2/10\n",
      "10/10 [==============================] - 145s 14s/step - loss: 1.3300 - sparse_categorical_accuracy: 0.5464 - val_loss: 0.1108 - val_sparse_categorical_accuracy: 1.0000\n",
      "Epoch 3/10\n",
      "10/10 [==============================] - 134s 13s/step - loss: 0.3468 - sparse_categorical_accuracy: 0.9007 - val_loss: 0.0537 - val_sparse_categorical_accuracy: 1.0000\n",
      "Epoch 4/10\n",
      "10/10 [==============================] - 145s 14s/step - loss: 0.0533 - sparse_categorical_accuracy: 0.9768 - val_loss: 0.0347 - val_sparse_categorical_accuracy: 0.9706\n",
      "Epoch 5/10\n",
      "10/10 [==============================] - 132s 13s/step - loss: 0.0351 - sparse_categorical_accuracy: 0.9934 - val_loss: 4.6859e-04 - val_sparse_categorical_accuracy: 1.0000\n",
      "Epoch 6/10\n",
      "10/10 [==============================] - 132s 13s/step - loss: 0.0036 - sparse_categorical_accuracy: 0.9967 - val_loss: 0.0024 - val_sparse_categorical_accuracy: 1.0000\n",
      "Epoch 7/10\n",
      "10/10 [==============================] - 132s 13s/step - loss: 0.0082 - sparse_categorical_accuracy: 0.9967 - val_loss: 0.0010 - val_sparse_categorical_accuracy: 1.0000\n",
      "Epoch 8/10\n",
      "10/10 [==============================] - 133s 13s/step - loss: 0.0012 - sparse_categorical_accuracy: 1.0000 - val_loss: 4.0405e-04 - val_sparse_categorical_accuracy: 1.0000\n",
      "Epoch 9/10\n",
      "10/10 [==============================] - 132s 13s/step - loss: 0.0044 - sparse_categorical_accuracy: 0.9967 - val_loss: 8.5676e-04 - val_sparse_categorical_accuracy: 1.0000\n",
      "Epoch 10/10\n",
      "10/10 [==============================] - 136s 14s/step - loss: 2.9479e-04 - sparse_categorical_accuracy: 1.0000 - val_loss: 1.8427e-04 - val_sparse_categorical_accuracy: 1.0000\n"
     ]
    }
   ],
   "source": [
    "with tf.device('CPU'):\n",
    "    history = model.fit(X_train, y_train,\n",
    "                        epochs=epochs,\n",
    "                        batch_size = batch_size,\n",
    "                        validation_split=0.1)"
   ]
  },
  {
   "cell_type": "code",
   "execution_count": 65,
   "id": "0dfc0ee1",
   "metadata": {},
   "outputs": [],
   "source": [
    "with tf.device('CPU'):\n",
    "    y_pred = model.predict(X_test)"
   ]
  },
  {
   "cell_type": "code",
   "execution_count": 66,
   "id": "156d89bf",
   "metadata": {},
   "outputs": [],
   "source": [
    "y_pred = y_pred.argmax(1)"
   ]
  },
  {
   "cell_type": "code",
   "execution_count": 67,
   "id": "62747f7b",
   "metadata": {},
   "outputs": [
    {
     "data": {
      "text/plain": [
       "0.9647058823529412"
      ]
     },
     "execution_count": 67,
     "metadata": {},
     "output_type": "execute_result"
    }
   ],
   "source": [
    "accuracy_score(y_test,y_pred)"
   ]
  },
  {
   "cell_type": "code",
   "execution_count": 68,
   "id": "8e5e3e08",
   "metadata": {},
   "outputs": [],
   "source": [
    "#model.save('squad_model.h5')"
   ]
  },
  {
   "cell_type": "code",
   "execution_count": 69,
   "id": "4c5b3ad2",
   "metadata": {},
   "outputs": [
    {
     "data": {
      "text/plain": [
       "array([[20,  0,  0,  0],\n",
       "       [ 2, 23,  0,  1],\n",
       "       [ 0,  0, 17,  0],\n",
       "       [ 0,  0,  0, 22]])"
      ]
     },
     "execution_count": 69,
     "metadata": {},
     "output_type": "execute_result"
    }
   ],
   "source": [
    "confusion_matrix(y_test,y_pred)"
   ]
  },
  {
   "cell_type": "code",
   "execution_count": 70,
   "id": "ec791e49",
   "metadata": {},
   "outputs": [
    {
     "data": {
      "text/plain": [
       "0.9711538461538461"
      ]
     },
     "execution_count": 70,
     "metadata": {},
     "output_type": "execute_result"
    }
   ],
   "source": [
    "np.mean(recall_score(y_test,y_pred,average=None))"
   ]
  },
  {
   "cell_type": "code",
   "execution_count": 71,
   "id": "c09b02f5",
   "metadata": {},
   "outputs": [
    {
     "data": {
      "text/plain": [
       "0.9664031620553359"
      ]
     },
     "execution_count": 71,
     "metadata": {},
     "output_type": "execute_result"
    }
   ],
   "source": [
    "np.mean(precision_score(y_test,y_pred,average=None))"
   ]
  },
  {
   "cell_type": "code",
   "execution_count": 72,
   "id": "b86338d6",
   "metadata": {},
   "outputs": [],
   "source": [
    "values_loss_train = history.history['loss']\n",
    "values_loss_validation = history.history['val_loss']\n",
    "values_accuracy_train = history.history['sparse_categorical_accuracy']\n",
    "values_accuracy_validation = history.history['val_sparse_categorical_accuracy']\n",
    "\n",
    "x = range(epochs)"
   ]
  },
  {
   "cell_type": "code",
   "execution_count": 73,
   "id": "8966fd0b",
   "metadata": {},
   "outputs": [
    {
     "data": {
      "text/plain": [
       "<matplotlib.legend.Legend at 0x7f32dda878e0>"
      ]
     },
     "execution_count": 73,
     "metadata": {},
     "output_type": "execute_result"
    },
    {
     "data": {
      "image/png": "[encoded data removed]",
      "text/plain": [
       "<Figure size 1036.8x518.4 with 2 Axes>"
      ]
     },
     "metadata": {
      "needs_background": "light"
     },
     "output_type": "display_data"
    }
   ],
   "source": [
    "fig = plt.figure(figsize=(14.4,7.2))\n",
    "\n",
    "ax1 = fig.add_subplot(1,2,1)\n",
    "ax1.plot(x,values_loss_train,label='loss_train')\n",
    "ax1.plot(x,values_loss_validation,label = 'loss_val')\n",
    "ax1.set_title('Loss')\n",
    "ax1.set_xlabel('epochs')\n",
    "ax1.legend(loc='best')\n",
    "\n",
    "ax2 = fig.add_subplot(1,2,2)\n",
    "ax2.plot(x,values_accuracy_train,label='acc_train')\n",
    "ax2.plot(x,values_accuracy_validation,label = 'acc_val')\n",
    "ax2.set_title('Acuracy')\n",
    "ax2.set_xlabel('epochs')\n",
    "ax2.legend(loc='best')\n",
    "\n",
    "\n"
   ]
  },
  {
   "cell_type": "code",
   "execution_count": 74,
   "id": "505cdbf6",
   "metadata": {},
   "outputs": [],
   "source": [
    "fig.savefig('squad imagens normal2.png')"
   ]
  },
  {
   "cell_type": "code",
   "execution_count": 75,
   "id": "fd569a6d",
   "metadata": {
    "scrolled": true
   },
   "outputs": [
    {
     "data": {
      "image/png": "[encoded data removed]",
      "text/plain": [
       "<Figure size 432x288 with 2 Axes>"
      ]
     },
     "metadata": {
      "needs_background": "light"
     },
     "output_type": "display_data"
    }
   ],
   "source": [
    "df = pd.DataFrame(confusion_matrix(y_test,y_pred),index=['Carlos','Leandro','Icaro','Josue'],\n",
    "                  columns=['Carlos','Leandro','Icaro','Josue'])\n",
    "sns.heatmap(df,annot=True)\n",
    "plt.savefig('matriz de confusao imagens normais 2')"
   ]
  },
  {
   "cell_type": "markdown",
   "id": "d84136f1",
   "metadata": {},
   "source": [
    "# Modelo Transfer Learning"
   ]
  },
  {
   "cell_type": "code",
   "execution_count": 32,
   "id": "69e02da9",
   "metadata": {},
   "outputs": [],
   "source": [
    "vgg = keras.applications.vgg16.VGG16(include_top=False, input_shape=X_train.shape[1:], weights = 'imagenet' )\n",
    "\n",
    "x = vgg.output\n",
    "x = Flatten()(x)\n",
    "x = Dense(4)(x)\n",
    "out = Activation('softmax')(x)\n",
    "\n",
    "model_tl = keras.Model(inputs=vgg.input,outputs=out)"
   ]
  },
  {
   "cell_type": "code",
   "execution_count": 33,
   "id": "b7f71b04",
   "metadata": {},
   "outputs": [
    {
     "name": "stdout",
     "output_type": "stream",
     "text": [
      "Model: \"model\"\n",
      "_________________________________________________________________\n",
      "Layer (type)                 Output Shape              Param #   \n",
      "=================================================================\n",
      "input_1 (InputLayer)         [(None, 224, 224, 3)]     0         \n",
      "_________________________________________________________________\n",
      "block1_conv1 (Conv2D)        (None, 224, 224, 64)      1792      \n",
      "_________________________________________________________________\n",
      "block1_conv2 (Conv2D)        (None, 224, 224, 64)      36928     \n",
      "_________________________________________________________________\n",
      "block1_pool (MaxPooling2D)   (None, 112, 112, 64)      0         \n",
      "_________________________________________________________________\n",
      "block2_conv1 (Conv2D)        (None, 112, 112, 128)     73856     \n",
      "_________________________________________________________________\n",
      "block2_conv2 (Conv2D)        (None, 112, 112, 128)     147584    \n",
      "_________________________________________________________________\n",
      "block2_pool (MaxPooling2D)   (None, 56, 56, 128)       0         \n",
      "_________________________________________________________________\n",
      "block3_conv1 (Conv2D)        (None, 56, 56, 256)       295168    \n",
      "_________________________________________________________________\n",
      "block3_conv2 (Conv2D)        (None, 56, 56, 256)       590080    \n",
      "_________________________________________________________________\n",
      "block3_conv3 (Conv2D)        (None, 56, 56, 256)       590080    \n",
      "_________________________________________________________________\n",
      "block3_pool (MaxPooling2D)   (None, 28, 28, 256)       0         \n",
      "_________________________________________________________________\n",
      "block4_conv1 (Conv2D)        (None, 28, 28, 512)       1180160   \n",
      "_________________________________________________________________\n",
      "block4_conv2 (Conv2D)        (None, 28, 28, 512)       2359808   \n",
      "_________________________________________________________________\n",
      "block4_conv3 (Conv2D)        (None, 28, 28, 512)       2359808   \n",
      "_________________________________________________________________\n",
      "block4_pool (MaxPooling2D)   (None, 14, 14, 512)       0         \n",
      "_________________________________________________________________\n",
      "block5_conv1 (Conv2D)        (None, 14, 14, 512)       2359808   \n",
      "_________________________________________________________________\n",
      "block5_conv2 (Conv2D)        (None, 14, 14, 512)       2359808   \n",
      "_________________________________________________________________\n",
      "block5_conv3 (Conv2D)        (None, 14, 14, 512)       2359808   \n",
      "_________________________________________________________________\n",
      "block5_pool (MaxPooling2D)   (None, 7, 7, 512)         0         \n",
      "_________________________________________________________________\n",
      "flatten_1 (Flatten)          (None, 25088)             0         \n",
      "_________________________________________________________________\n",
      "dense_1 (Dense)              (None, 4)                 100356    \n",
      "_________________________________________________________________\n",
      "activation_4 (Activation)    (None, 4)                 0         \n",
      "=================================================================\n",
      "Total params: 14,815,044\n",
      "Trainable params: 14,815,044\n",
      "Non-trainable params: 0\n",
      "_________________________________________________________________\n"
     ]
    }
   ],
   "source": [
    "model_tl.summary()"
   ]
  },
  {
   "cell_type": "code",
   "execution_count": 34,
   "id": "ea20710b",
   "metadata": {},
   "outputs": [],
   "source": [
    "model_tl.compile(loss='sparse_categorical_crossentropy',\n",
    "              optimizer='adam',\n",
    "              metrics=['sparse_categorical_accuracy'])"
   ]
  },
  {
   "cell_type": "code",
   "execution_count": 35,
   "id": "4a917394",
   "metadata": {},
   "outputs": [
    {
     "name": "stdout",
     "output_type": "stream",
     "text": [
      "Epoch 1/10\n",
      "10/10 [==============================] - 122s 12s/step - loss: 59.9320 - sparse_categorical_accuracy: 0.2450 - val_loss: 1.1399 - val_sparse_categorical_accuracy: 0.5588\n",
      "Epoch 2/10\n",
      "10/10 [==============================] - 116s 12s/step - loss: 0.8613 - sparse_categorical_accuracy: 0.6225 - val_loss: 0.3919 - val_sparse_categorical_accuracy: 0.8235\n",
      "Epoch 3/10\n",
      "10/10 [==============================] - 112s 11s/step - loss: 0.2652 - sparse_categorical_accuracy: 0.8907 - val_loss: 0.0596 - val_sparse_categorical_accuracy: 0.9706\n",
      "Epoch 4/10\n",
      "10/10 [==============================] - 110s 11s/step - loss: 0.1662 - sparse_categorical_accuracy: 0.9702 - val_loss: 0.0364 - val_sparse_categorical_accuracy: 1.0000\n",
      "Epoch 5/10\n",
      "10/10 [==============================] - 110s 11s/step - loss: 0.0513 - sparse_categorical_accuracy: 0.9834 - val_loss: 2.0058e-05 - val_sparse_categorical_accuracy: 1.0000\n",
      "Epoch 6/10\n",
      "10/10 [==============================] - 110s 11s/step - loss: 0.1283 - sparse_categorical_accuracy: 0.9669 - val_loss: 0.2560 - val_sparse_categorical_accuracy: 0.9118\n",
      "Epoch 7/10\n",
      "10/10 [==============================] - 111s 11s/step - loss: 0.0389 - sparse_categorical_accuracy: 0.9834 - val_loss: 0.0013 - val_sparse_categorical_accuracy: 1.0000\n",
      "Epoch 8/10\n",
      "10/10 [==============================] - 112s 11s/step - loss: 0.0065 - sparse_categorical_accuracy: 1.0000 - val_loss: 0.0299 - val_sparse_categorical_accuracy: 0.9706\n",
      "Epoch 9/10\n",
      "10/10 [==============================] - 110s 11s/step - loss: 0.0062 - sparse_categorical_accuracy: 1.0000 - val_loss: 0.0459 - val_sparse_categorical_accuracy: 0.9706\n",
      "Epoch 10/10\n",
      "10/10 [==============================] - 111s 11s/step - loss: 0.0318 - sparse_categorical_accuracy: 0.9934 - val_loss: 2.8942e-04 - val_sparse_categorical_accuracy: 1.0000\n"
     ]
    }
   ],
   "source": [
    "with tf.device('CPU'):\n",
    "    history_tl = model_tl.fit(X_train, y_train,\n",
    "                        epochs=epochs,\n",
    "                        batch_size = batch_size,\n",
    "                        validation_split=0.1)\n",
    "    "
   ]
  },
  {
   "cell_type": "code",
   "execution_count": 37,
   "id": "c9b713dd",
   "metadata": {},
   "outputs": [],
   "source": [
    "with tf.device('CPU'):\n",
    "    y_pred = model_tl.predict(X_test)"
   ]
  },
  {
   "cell_type": "code",
   "execution_count": 38,
   "id": "7e2c3bae",
   "metadata": {},
   "outputs": [],
   "source": [
    "y_pred = y_pred.argmax(1)"
   ]
  },
  {
   "cell_type": "code",
   "execution_count": 39,
   "id": "e7c09b1f",
   "metadata": {},
   "outputs": [
    {
     "data": {
      "text/plain": [
       "array([0, 1, 2, 3, 3, 1, 0, 1, 3, 0, 1, 1, 2, 0, 1, 2, 1, 2, 2, 0, 1, 0,\n",
       "       2, 0, 3, 3, 0, 3, 1, 3, 1, 2, 1, 1, 2, 1, 0, 3, 1, 0, 0, 2, 2, 3,\n",
       "       2, 3, 1, 0, 2, 3, 2, 0, 3, 1, 0, 0, 1, 2, 0, 3, 1, 2, 1, 3, 2, 3,\n",
       "       1, 0, 0, 0, 2, 3, 2, 2, 2, 1, 3, 1, 0, 1, 0, 2, 1, 0, 3])"
      ]
     },
     "execution_count": 39,
     "metadata": {},
     "output_type": "execute_result"
    }
   ],
   "source": [
    "y_pred"
   ]
  },
  {
   "cell_type": "code",
   "execution_count": 40,
   "id": "56d2d224",
   "metadata": {},
   "outputs": [
    {
     "data": {
      "text/plain": [
       "array([0, 1, 2, 3, 3, 1, 0, 1, 3, 0, 1, 1, 2, 0, 1, 2, 1, 2, 2, 0, 1, 0,\n",
       "       2, 0, 3, 3, 0, 3, 1, 3, 1, 2, 1, 1, 2, 1, 0, 3, 1, 0, 0, 2, 2, 3,\n",
       "       2, 3, 1, 0, 2, 3, 2, 0, 3, 1, 0, 0, 1, 2, 0, 3, 1, 2, 1, 3, 2, 3,\n",
       "       1, 0, 0, 0, 2, 3, 2, 2, 2, 1, 3, 1, 0, 1, 0, 2, 1, 0, 3])"
      ]
     },
     "execution_count": 40,
     "metadata": {},
     "output_type": "execute_result"
    }
   ],
   "source": [
    "y_test"
   ]
  },
  {
   "cell_type": "code",
   "execution_count": 41,
   "id": "981486c8",
   "metadata": {},
   "outputs": [
    {
     "data": {
      "text/plain": [
       "1.0"
      ]
     },
     "execution_count": 41,
     "metadata": {},
     "output_type": "execute_result"
    }
   ],
   "source": [
    "accuracy_score(y_test,y_pred)"
   ]
  },
  {
   "cell_type": "code",
   "execution_count": 42,
   "id": "126f36ec",
   "metadata": {},
   "outputs": [
    {
     "data": {
      "text/plain": [
       "1.0"
      ]
     },
     "execution_count": 42,
     "metadata": {},
     "output_type": "execute_result"
    }
   ],
   "source": [
    "np.mean(precision_score(y_test,y_pred,average=None))"
   ]
  },
  {
   "cell_type": "code",
   "execution_count": 43,
   "id": "70adb0d1",
   "metadata": {},
   "outputs": [
    {
     "data": {
      "text/plain": [
       "1.0"
      ]
     },
     "execution_count": 43,
     "metadata": {},
     "output_type": "execute_result"
    }
   ],
   "source": [
    "np.mean(recall_score(y_test,y_pred,average=None))"
   ]
  },
  {
   "cell_type": "code",
   "execution_count": 44,
   "id": "c361ffd1",
   "metadata": {},
   "outputs": [
    {
     "data": {
      "text/plain": [
       "array([[22,  0,  0,  0],\n",
       "       [ 0, 24,  0,  0],\n",
       "       [ 0,  0, 21,  0],\n",
       "       [ 0,  0,  0, 18]])"
      ]
     },
     "execution_count": 44,
     "metadata": {},
     "output_type": "execute_result"
    }
   ],
   "source": [
    "confusion_matrix(y_test,y_pred)"
   ]
  },
  {
   "cell_type": "code",
   "execution_count": 45,
   "id": "48b6a528",
   "metadata": {},
   "outputs": [],
   "source": [
    "values_loss_train = history_tl.history['loss']\n",
    "values_loss_validation = history_tl.history['val_loss']\n",
    "values_accuracy_train = history_tl.history['sparse_categorical_accuracy']\n",
    "values_accuracy_validation = history_tl.history['val_sparse_categorical_accuracy']\n",
    "\n",
    "x = range(epochs)"
   ]
  },
  {
   "cell_type": "code",
   "execution_count": 46,
   "id": "41c313ad",
   "metadata": {},
   "outputs": [
    {
     "data": {
      "text/plain": [
       "<matplotlib.legend.Legend at 0x7f32681853d0>"
      ]
     },
     "execution_count": 46,
     "metadata": {},
     "output_type": "execute_result"
    },
    {
     "data": {
      "image/png": "[encoded data removed]",
      "text/plain": [
       "<Figure size 1036.8x518.4 with 2 Axes>"
      ]
     },
     "metadata": {
      "needs_background": "light"
     },
     "output_type": "display_data"
    }
   ],
   "source": [
    "fig = plt.figure(figsize=(14.4,7.2))\n",
    "\n",
    "ax1 = fig.add_subplot(1,2,1)\n",
    "ax1.plot(x,values_loss_train,label='loss_train')\n",
    "ax1.plot(x,values_loss_validation,label = 'loss_val')\n",
    "ax1.set_title('Loss')\n",
    "ax1.set_xlabel('epochs')\n",
    "ax1.legend(loc='best')\n",
    "\n",
    "ax2 = fig.add_subplot(1,2,2)\n",
    "ax2.plot(x,values_accuracy_train,label='acc_train')\n",
    "ax2.plot(x,values_accuracy_validation,label = 'acc_val')\n",
    "ax2.set_title('Accuracy')\n",
    "ax2.set_xlabel('epochs')\n",
    "ax2.legend(loc='best')\n",
    "\n"
   ]
  },
  {
   "cell_type": "code",
   "execution_count": 49,
   "id": "c49b39aa",
   "metadata": {},
   "outputs": [],
   "source": [
    "fig.savefig('VGG16 imagens bordas.png')"
   ]
  },
  {
   "cell_type": "code",
   "execution_count": 50,
   "id": "03c53872",
   "metadata": {},
   "outputs": [
    {
     "data": {
      "text/plain": [
       "<AxesSubplot:>"
      ]
     },
     "execution_count": 50,
     "metadata": {},
     "output_type": "execute_result"
    },
    {
     "data": {
      "image/png": "[encoded data removed]",
      "text/plain": [
       "<Figure size 432x288 with 2 Axes>"
      ]
     },
     "metadata": {
      "needs_background": "light"
     },
     "output_type": "display_data"
    }
   ],
   "source": [
    "df = pd.DataFrame(confusion_matrix(y_test,y_pred),index=['Carlos','Leandro','Icaro','Josue'],\n",
    "                  columns=['Carlos','Leandro','Icaro','Josue'])\n",
    "sns.heatmap(df,annot=True)\n",
    "plt.savefig(' VGG16 matriz de confusao imagens normais 2')"
   ]
  }
 ],
 "metadata": {
  "kernelspec": {
   "display_name": "Python 3",
   "language": "python",
   "name": "python3"
  },
  "language_info": {
   "codemirror_mode": {
    "name": "ipython",
    "version": 3
   },
   "file_extension": ".py",
   "mimetype": "text/x-python",
   "name": "python",
   "nbconvert_exporter": "python",
   "pygments_lexer": "ipython3",
   "version": "3.8.10"
  }
 },
 "nbformat": 4,
 "nbformat_minor": 5
}
